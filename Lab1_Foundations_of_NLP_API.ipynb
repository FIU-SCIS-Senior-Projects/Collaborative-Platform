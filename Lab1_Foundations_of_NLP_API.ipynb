{
  "cells": [
    {
      "cell_type": "markdown",
      "metadata": {
        "id": "view-in-github",
        "colab_type": "text"
      },
      "source": [
        "<a href=\"https://colab.research.google.com/github/FIU-SCIS-Senior-Projects/Collaborative-Platform/blob/master/Lab1_Foundations_of_NLP_API.ipynb\" target=\"_parent\"><img src=\"https://colab.research.google.com/assets/colab-badge.svg\" alt=\"Open In Colab\"/></a>"
      ]
    },
    {
      "cell_type": "markdown",
      "source": [
        "**Adrian Alfonso**"
      ],
      "metadata": {
        "id": "W5isWOXjzVwn"
      },
      "id": "W5isWOXjzVwn"
    },
    {
      "cell_type": "markdown",
      "id": "2d5b477d",
      "metadata": {
        "id": "2d5b477d"
      },
      "source": [
        "# Lab 1: Foundations of NLP\n",
        "\n",
        "In this lab you will **choose one** API to fetch approximately 200 words of live text, then use that text for all tasks below.\n",
        "\n",
        "**TODO:** Pick your API from the list (see README/API docs), and implement the fetch in the first code cell."
      ]
    },
    {
      "cell_type": "code",
      "source": [
        "#dependencies\n",
        "import requests\n",
        "import spacy\n",
        "from collections import Counter\n",
        "import matplotlib.pyplot as plt\n"
      ],
      "metadata": {
        "id": "kajdYGK4k7aw"
      },
      "id": "kajdYGK4k7aw",
      "execution_count": 103,
      "outputs": []
    },
    {
      "cell_type": "code",
      "execution_count": 104,
      "id": "4d52fb40",
      "metadata": {
        "id": "4d52fb40",
        "outputId": "da6c18a6-59ab-452c-a82c-56b94bf872c4",
        "colab": {
          "base_uri": "https://localhost:8080/"
        }
      },
      "outputs": [
        {
          "output_type": "stream",
          "name": "stdout",
          "text": [
            "===========\n",
            "Fetched text length: 548\n",
            "\n",
            "Below is a preview of the extracted text: \n",
            "\n",
            "Miami is a coastal city in the U.S. state of Florida and the county seat of Miami-Dade County in South Florida. It is the core of the Miami metropolitan area, which, with a population of 6.14 million, is the second-largest metropolitan area in the Southeast after Atlanta, and the ninth-largest in the United States. With a population of 442,241 as of the 2020 census, Miami is the second-most populous city in Florida, after Jacksonville. Miami has the third-largest skyline in the U.S. with over 300 high-rises, 70 of which exceed 491 ft (150 m).\n"
          ]
        }
      ],
      "source": [
        "# Fetch ~200 words of text from your chosen API\n",
        "\n",
        "\n",
        "resp = requests.get(\"https://en.wikipedia.org/api/rest_v1/page/summary/Miami\").json()\n",
        "raw_text = resp[\"extract\"]\n",
        "\n",
        "print(\"===========\")\n",
        "print(\"Fetched text length:\",  len(raw_text))\n",
        "print(\"\")\n",
        "print(\"Below is a preview of the extracted text: \")\n",
        "print(\"\")\n",
        "print(raw_text)"
      ]
    },
    {
      "cell_type": "markdown",
      "id": "3ace0325",
      "metadata": {
        "id": "3ace0325"
      },
      "source": [
        "## 1. Text Preprocessing (30 pts)\n",
        "\n",
        "- Use the `raw_text` variable you fetched.\n",
        "- Tokenize, lowercase, remove punctuation.\n",
        "- Remove stopwords.\n",
        "- Plot the top-10 most frequent tokens.\n",
        "\n",
        "**TODO:** Write your code below and commit after each sub-step."
      ]
    },
    {
      "cell_type": "code",
      "source": [
        "#load the spacy model\n",
        "nlp = spacy.load(\"en_core_web_sm\")\n",
        "\n",
        "#set the raw_text to lower case first. I did this here because I don't want to loose the token objects further donw.\n",
        "raw_text = raw_text.lower()\n",
        "\n",
        "#load the raw text into a spacy Doc object\n",
        "doc = nlp(raw_text)\n",
        "\n",
        "#get the original tokens\n",
        "original_tokens = [token.text for token in doc]\n"
      ],
      "metadata": {
        "id": "v404zDGS3-b3"
      },
      "id": "v404zDGS3-b3",
      "execution_count": 105,
      "outputs": []
    },
    {
      "cell_type": "code",
      "execution_count": 106,
      "id": "e0a08365",
      "metadata": {
        "id": "e0a08365",
        "colab": {
          "base_uri": "https://localhost:8080/"
        },
        "outputId": "efcaf991-8fe7-438a-ae80-725574c71663"
      },
      "outputs": [
        {
          "output_type": "stream",
          "name": "stdout",
          "text": [
            "Original tokens:\t\t\t ['miami', 'is', 'a', 'coastal', 'city', 'in', 'the', 'u.s', '.', 'state', 'of', 'florida', 'and', 'the', 'county', 'seat', 'of', 'miami', '-', 'dade', 'county', 'in', 'south', 'florida', '.', 'it', 'is', 'the', 'core', 'of', 'the', 'miami', 'metropolitan', 'area', ',', 'which', ',', 'with', 'a', 'population', 'of', '6.14', '\\xa0', 'million', ',', 'is', 'the', 'second', '-', 'largest', 'metropolitan', 'area', 'in', 'the', 'southeast', 'after', 'atlanta', ',', 'and', 'the', 'ninth', '-', 'largest', 'in', 'the', 'united', 'states', '.', 'with', 'a', 'population', 'of', '442,241', 'as', 'of', 'the', '2020', 'census', ',', 'miami', 'is', 'the', 'second', '-', 'most', 'populous', 'city', 'in', 'florida', ',', 'after', 'jacksonville', '.', 'miami', 'has', 'the', 'third', '-', 'largest', 'skyline', 'in', 'the', 'u.s', '.', 'with', 'over', '300', 'high', '-', 'rises', ',', '70', 'of', 'which', 'exceed', '491', '\\xa0', 'ft', '(', '150', '\\xa0', 'm', ')', '.']\n",
            "Lower case and no puntuation tokens:\t [miami, is, a, coastal, city, in, the, u.s, state, of, florida, and, the, county, seat, of, miami, dade, county, in, south, florida, it, is, the, core, of, the, miami, metropolitan, area, which, with, a, population, of, 6.14,  , million, is, the, second, largest, metropolitan, area, in, the, southeast, after, atlanta, and, the, ninth, largest, in, the, united, states, with, a, population, of, 442,241, as, of, the, 2020, census, miami, is, the, second, most, populous, city, in, florida, after, jacksonville, miami, has, the, third, largest, skyline, in, the, u.s, with, over, 300, high, rises, 70, of, which, exceed, 491,  , ft, 150,  , m]\n"
          ]
        }
      ],
      "source": [
        "# Tokenize and clean raw_text\n",
        "# Note, I'm trything to preserve the list as a token list just to preserve the Token type\n",
        "tokens_lower_without_punctuation = [token for token in doc if not token.is_punct]\n",
        "\n",
        "print(\"Original tokens:\\t\\t\\t\", original_tokens)\n",
        "print(\"Lower case and no puntuation tokens:\\t\",tokens_lower_without_punctuation)\n"
      ]
    },
    {
      "cell_type": "code",
      "execution_count": 107,
      "id": "72aad684",
      "metadata": {
        "id": "72aad684",
        "colab": {
          "base_uri": "https://localhost:8080/"
        },
        "outputId": "98cf9510-437a-49a7-a57b-aaa5b7511ece"
      },
      "outputs": [
        {
          "output_type": "stream",
          "name": "stdout",
          "text": [
            "Original tokens:\t\t\t\t ['miami', 'is', 'a', 'coastal', 'city', 'in', 'the', 'u.s', '.', 'state', 'of', 'florida', 'and', 'the', 'county', 'seat', 'of', 'miami', '-', 'dade', 'county', 'in', 'south', 'florida', '.', 'it', 'is', 'the', 'core', 'of', 'the', 'miami', 'metropolitan', 'area', ',', 'which', ',', 'with', 'a', 'population', 'of', '6.14', '\\xa0', 'million', ',', 'is', 'the', 'second', '-', 'largest', 'metropolitan', 'area', 'in', 'the', 'southeast', 'after', 'atlanta', ',', 'and', 'the', 'ninth', '-', 'largest', 'in', 'the', 'united', 'states', '.', 'with', 'a', 'population', 'of', '442,241', 'as', 'of', 'the', '2020', 'census', ',', 'miami', 'is', 'the', 'second', '-', 'most', 'populous', 'city', 'in', 'florida', ',', 'after', 'jacksonville', '.', 'miami', 'has', 'the', 'third', '-', 'largest', 'skyline', 'in', 'the', 'u.s', '.', 'with', 'over', '300', 'high', '-', 'rises', ',', '70', 'of', 'which', 'exceed', '491', '\\xa0', 'ft', '(', '150', '\\xa0', 'm', ')', '.']\n",
            "Lower case and no puntuation and not stop words: [miami, coastal, city, u.s, state, florida, county, seat, miami, dade, county, south, florida, core, miami, metropolitan, area, population, 6.14,  , million, second, largest, metropolitan, area, southeast, atlanta, ninth, largest, united, states, population, 442,241, 2020, census, miami, second, populous, city, florida, jacksonville, miami, largest, skyline, u.s, 300, high, rises, 70, exceed, 491,  , ft, 150,  , m]\n"
          ]
        }
      ],
      "source": [
        "#Remove stopwords (articles, preposstions, conjunctions, pronouns)\n",
        "#Note: this could have been done in the previous step.\n",
        "cleaned_tokens = [token for token in tokens_lower_without_punctuation if not token.is_stop]\n",
        "print(\"Original tokens:\\t\\t\\t\\t\", original_tokens)\n",
        "print(\"Lower case and no puntuation and not stop words:\",cleaned_tokens) #Note: notice how words is, a, in are not present anymore.\n"
      ]
    },
    {
      "cell_type": "code",
      "execution_count": 108,
      "id": "719f9ddf",
      "metadata": {
        "id": "719f9ddf",
        "colab": {
          "base_uri": "https://localhost:8080/",
          "height": 607
        },
        "outputId": "ee114422-d013-4f2e-8cd3-0e8002f1dfa0"
      },
      "outputs": [
        {
          "output_type": "display_data",
          "data": {
            "text/plain": [
              "<Figure size 1000x600 with 1 Axes>"
            ],
            "image/png": "[encoded data removed]"
          },
          "metadata": {}
        }
      ],
      "source": [
        "# Plot frequent tokens\n",
        "\n",
        "#compute the token count\n",
        "token_counts = Counter([token.text for token in cleaned_tokens])\n",
        "\n",
        "top_10_tokens = token_counts.most_common(10)\n",
        "\n",
        "tokens = [token for token, count in top_10_tokens]\n",
        "counts = [count for token, count in top_10_tokens]\n",
        "\n",
        "# Plot the top 10 tokens\n",
        "plt.figure(figsize=(10, 6))\n",
        "plt.bar(tokens,counts)\n",
        "plt.xlabel(\"Tokens\")\n",
        "plt.ylabel(\"Frequency\")\n",
        "plt.title(\"Top 10 Most Frequent Tokens\")\n",
        "plt.xticks(rotation=45, ha=\"right\")\n",
        "plt.tight_layout()\n",
        "plt.show()\n",
        "\n",
        "#Please note that the token '\\xa0' prints in blank in the chart\n",
        "#print(top_10_tokens)"
      ]
    },
    {
      "cell_type": "markdown",
      "id": "c6afbb41",
      "metadata": {
        "id": "c6afbb41"
      },
      "source": [
        "## 2. Synonym Generation (30 pts)\n",
        "\n",
        "- Pick 5 tokens from your preprocessed results.\n",
        "- Manually list 2-3 synonyms each.\n",
        "- Use Google AI Studio Text API to generate synonyms for each.\n",
        "\n",
        "**TODO:** Complete the code and reflections."
      ]
    },
    {
      "cell_type": "code",
      "execution_count": 109,
      "id": "cbe374bd",
      "metadata": {
        "id": "cbe374bd"
      },
      "outputs": [],
      "source": [
        "# TODO: Manually list synonyms\n"
      ]
    },
    {
      "cell_type": "code",
      "execution_count": 110,
      "id": "67852b47",
      "metadata": {
        "id": "67852b47"
      },
      "outputs": [],
      "source": [
        "# TODO: Call Google AI Studio Text API for synonyms\n"
      ]
    },
    {
      "cell_type": "markdown",
      "id": "a7ee1a81",
      "metadata": {
        "id": "a7ee1a81"
      },
      "source": [
        "## 3. Part-of-Speech Annotation (20 pts)\n",
        "\n",
        "- Select one sentence from `raw_text`.\n",
        "- Manually tag each word with its POS.\n",
        "- Call the AI Studio syntax endpoint and compare.\n",
        "\n",
        "**TODO:** Implement tagging and comparison."
      ]
    },
    {
      "cell_type": "code",
      "execution_count": 111,
      "id": "5b2cab55",
      "metadata": {
        "id": "5b2cab55"
      },
      "outputs": [],
      "source": [
        "# TODO: Manual POS tagging\n"
      ]
    },
    {
      "cell_type": "code",
      "execution_count": 112,
      "id": "b5b000fc",
      "metadata": {
        "id": "b5b000fc"
      },
      "outputs": [],
      "source": [
        "# TODO: Call AI Studio syntax endpoint\n"
      ]
    },
    {
      "cell_type": "markdown",
      "id": "9bd782a6",
      "metadata": {
        "id": "9bd782a6"
      },
      "source": [
        "## 4. Thinking & Reflection (20 pts)\n",
        "\n",
        "Answer in Markdown:\n",
        "1. Which preprocessing step had the biggest impact?\n",
        "2. What surprised you about the AI outputs?\n",
        "3. How would you integrate manual rules and AI calls in a production pipeline?"
      ]
    }
  ],
  "metadata": {
    "colab": {
      "provenance": [],
      "include_colab_link": true
    },
    "language_info": {
      "name": "python"
    },
    "kernelspec": {
      "name": "python3",
      "display_name": "Python 3"
    }
  },
  "nbformat": 4,
  "nbformat_minor": 5
}